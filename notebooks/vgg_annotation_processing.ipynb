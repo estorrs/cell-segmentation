{
 "cells": [
  {
   "cell_type": "code",
   "execution_count": 5,
   "metadata": {},
   "outputs": [],
   "source": [
    "import json\n",
    "import os\n",
    "import re\n",
    "import shutil\n",
    "\n",
    "import cv2\n",
    "import numpy as np\n",
    "import matplotlib.pyplot as plt\n",
    "from PIL import Image, ImageDraw, ImageFilter"
   ]
  },
  {
   "cell_type": "code",
   "execution_count": 3,
   "metadata": {},
   "outputs": [],
   "source": [
    "annotations_dir = '/Users/erikstorrs/Documents/ding/cell_segmentation/data/annotated_cytoplasm/ann/'\n",
    "images_dir = '/Users/erikstorrs/Documents/ding/cell_segmentation/data/annotated_cytoplasm/img/'\n",
    "\n",
    "output_dir = '/Users/erikstorrs/Documents/ding/cell_segmentation/data/naktpase_annotated'"
   ]
  },
  {
   "cell_type": "code",
   "execution_count": 6,
   "metadata": {},
   "outputs": [],
   "source": [
    "if not os.path.isdir(output_dir):\n",
    "    os.mkdir(output_dir)"
   ]
  },
  {
   "cell_type": "markdown",
   "metadata": {},
   "source": [
    "# do masks"
   ]
  },
  {
   "cell_type": "code",
   "execution_count": 33,
   "metadata": {},
   "outputs": [
    {
     "data": {
      "text/plain": [
       "(72,\n",
       " ['/Users/erikstorrs/Documents/ding/cell_segmentation/data/annotated_cytoplasm/ann/32.png.json',\n",
       "  '/Users/erikstorrs/Documents/ding/cell_segmentation/data/annotated_cytoplasm/ann/33.png.json',\n",
       "  '/Users/erikstorrs/Documents/ding/cell_segmentation/data/annotated_cytoplasm/ann/45.png.json',\n",
       "  '/Users/erikstorrs/Documents/ding/cell_segmentation/data/annotated_cytoplasm/ann/44.png.json',\n",
       "  '/Users/erikstorrs/Documents/ding/cell_segmentation/data/annotated_cytoplasm/ann/71.png.json'])"
      ]
     },
     "execution_count": 33,
     "metadata": {},
     "output_type": "execute_result"
    }
   ],
   "source": [
    "fps = [os.path.join(annotations_dir, fp) for fp in os.listdir(annotations_dir)]\n",
    "len(fps), fps[:5]"
   ]
  },
  {
   "cell_type": "code",
   "execution_count": 37,
   "metadata": {},
   "outputs": [],
   "source": [
    "def get_masks(vgg_annotator_json_fp):\n",
    "    d = json.load(open(vgg_annotator_json_fp))\n",
    "    \n",
    "    masks = []\n",
    "    width = d['size']['width']\n",
    "    height = d['size']['height']\n",
    "    \n",
    "    for obj in d['objects']:\n",
    "        pts = [(x, y) for x, y in obj['points']['exterior']]\n",
    "        \n",
    "        img = Image.new('L', (width, height), 0)\n",
    "        ImageDraw.Draw(img).polygon(pts, outline=1, fill=1)\n",
    "        mask = np.array(img).astype(bool)\n",
    "        \n",
    "        masks.append(mask)\n",
    "        \n",
    "    return masks"
   ]
  },
  {
   "cell_type": "code",
   "execution_count": 40,
   "metadata": {},
   "outputs": [],
   "source": [
    "has_masks = set()\n",
    "for fp in fps:\n",
    "    sample = fp.split('/')[-1].split('.')[0]\n",
    "    \n",
    "    masks = get_masks(fp)\n",
    "    \n",
    "    if masks:\n",
    "        if not os.path.isdir(os.path.join(output_dir, sample)):\n",
    "            os.mkdir(os.path.join(output_dir, sample))\n",
    "            os.mkdir(os.path.join(output_dir, sample, 'masks'))\n",
    "\n",
    "        for i, mask in enumerate(masks):\n",
    "            cv2.imwrite(os.path.join(output_dir, sample, 'masks', f'mask_{i}.png'), mask.astype(np.uint8) * 255)          \n",
    "        has_masks.add(sample)"
   ]
  },
  {
   "cell_type": "code",
   "execution_count": 28,
   "metadata": {},
   "outputs": [
    {
     "data": {
      "text/plain": [
       "(256, 256)"
      ]
     },
     "execution_count": 28,
     "metadata": {},
     "output_type": "execute_result"
    }
   ],
   "source": []
  },
  {
   "cell_type": "markdown",
   "metadata": {},
   "source": [
    "## do images"
   ]
  },
  {
   "cell_type": "code",
   "execution_count": 41,
   "metadata": {},
   "outputs": [
    {
     "data": {
      "text/plain": [
       "(72,\n",
       " ['/Users/erikstorrs/Documents/ding/cell_segmentation/data/annotated_cytoplasm/img/63.png',\n",
       "  '/Users/erikstorrs/Documents/ding/cell_segmentation/data/annotated_cytoplasm/img/62.png',\n",
       "  '/Users/erikstorrs/Documents/ding/cell_segmentation/data/annotated_cytoplasm/img/60.png',\n",
       "  '/Users/erikstorrs/Documents/ding/cell_segmentation/data/annotated_cytoplasm/img/48.png',\n",
       "  '/Users/erikstorrs/Documents/ding/cell_segmentation/data/annotated_cytoplasm/img/49.png'])"
      ]
     },
     "execution_count": 41,
     "metadata": {},
     "output_type": "execute_result"
    }
   ],
   "source": [
    "fps = [os.path.join(images_dir, fp) for fp in os.listdir(images_dir)]\n",
    "len(fps), fps[:5]"
   ]
  },
  {
   "cell_type": "code",
   "execution_count": 42,
   "metadata": {},
   "outputs": [],
   "source": [
    "for fp in fps:\n",
    "    sample = fp.split('/')[-1].replace('.png', '')\n",
    "    if sample in has_masks:\n",
    "        if not os.path.isdir(os.path.join(output_dir, sample, 'images')):\n",
    "            os.mkdir(os.path.join(output_dir, sample, 'images'))\n",
    "        shutil.copyfile(fp, os.path.join(output_dir, sample, 'images', f'{sample}.png'))"
   ]
  },
  {
   "cell_type": "code",
   "execution_count": null,
   "metadata": {},
   "outputs": [],
   "source": []
  }
 ],
 "metadata": {
  "kernelspec": {
   "display_name": "Python 3",
   "language": "python",
   "name": "python3"
  },
  "language_info": {
   "codemirror_mode": {
    "name": "ipython",
    "version": 3
   },
   "file_extension": ".py",
   "mimetype": "text/x-python",
   "name": "python",
   "nbconvert_exporter": "python",
   "pygments_lexer": "ipython3",
   "version": "3.7.1"
  }
 },
 "nbformat": 4,
 "nbformat_minor": 2
}
