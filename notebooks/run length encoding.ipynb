{
 "cells": [
  {
   "cell_type": "code",
   "execution_count": 45,
   "metadata": {},
   "outputs": [],
   "source": [
    "import json\n",
    "from pathlib import Path\n",
    "import numpy as np\n",
    "from PIL import Image\n",
    "from pycocotools import mask as mask_util\n",
    "\n",
    "import matplotlib.pyplot as plt\n",
    "import os\n",
    "import cv2"
   ]
  },
  {
   "cell_type": "code",
   "execution_count": 31,
   "metadata": {},
   "outputs": [],
   "source": [
    "ROOT_DIR = Path('/Users/erikstorrs/Downloads/nuclei-segmentation-in-microscope-cell-images')\n",
    "DATASET_WORKING_DIR = ROOT_DIR / 'Nuclei'\n",
    "\n",
    "annotations_file = DATASET_WORKING_DIR / 'annotations/cluster_nuclei.json'\n",
    "\n",
    "# annotations_file = DATASET_WORKING_DIR / 'annotations/stage1_train.json'\n",
    "\n",
    "\n",
    "COCO = json.load(open(annotations_file.as_posix()))"
   ]
  },
  {
   "cell_type": "markdown",
   "metadata": {},
   "source": [
    "## create training data"
   ]
  },
  {
   "cell_type": "code",
   "execution_count": 32,
   "metadata": {},
   "outputs": [
    {
     "data": {
      "text/plain": [
       "52"
      ]
     },
     "execution_count": 32,
     "metadata": {},
     "output_type": "execute_result"
    }
   ],
   "source": [
    "len(COCO['images'])"
   ]
  },
  {
   "cell_type": "code",
   "execution_count": 33,
   "metadata": {},
   "outputs": [
    {
     "data": {
      "text/plain": [
       "{'Clustered_Nuclei'}"
      ]
     },
     "execution_count": 33,
     "metadata": {},
     "output_type": "execute_result"
    }
   ],
   "source": [
    "{im_meta['nuclei_class'] for im_meta in COCO['images']}"
   ]
  },
  {
   "cell_type": "code",
   "execution_count": null,
   "metadata": {},
   "outputs": [],
   "source": []
  },
  {
   "cell_type": "code",
   "execution_count": null,
   "metadata": {},
   "outputs": [],
   "source": []
  },
  {
   "cell_type": "code",
   "execution_count": 34,
   "metadata": {},
   "outputs": [
    {
     "data": {
      "text/plain": [
       "{'nuclei_class': 'Clustered_Nuclei',\n",
       " 'file_name': 'cluster16.bmp.jpg',\n",
       " 'width': 200,\n",
       " 'id': 0,\n",
       " 'height': 200}"
      ]
     },
     "execution_count": 34,
     "metadata": {},
     "output_type": "execute_result"
    }
   ],
   "source": [
    "image_metadata = COCO['images'][0]\n",
    "image_metadata"
   ]
  },
  {
   "cell_type": "code",
   "execution_count": 35,
   "metadata": {},
   "outputs": [],
   "source": [
    "def get_masks(im_metadata):\n",
    "    image_annotations = []\n",
    "    for annotation in COCO['annotations']:\n",
    "        if annotation['image_id'] == im_metadata['id']:\n",
    "            image_annotations.append(annotation)\n",
    "\n",
    "    segments = [annotation['segmentation'] for annotation in image_annotations]\n",
    "    masks = mask_util.decode(segments)\n",
    "    return masks"
   ]
  },
  {
   "cell_type": "code",
   "execution_count": 36,
   "metadata": {},
   "outputs": [
    {
     "data": {
      "text/plain": [
       "(200, 200, 17)"
      ]
     },
     "execution_count": 36,
     "metadata": {},
     "output_type": "execute_result"
    }
   ],
   "source": [
    "masks = get_masks(image_metadata)\n",
    "\n",
    "masks.shape"
   ]
  },
  {
   "cell_type": "markdown",
   "metadata": {},
   "source": [
    "##### create training data"
   ]
  },
  {
   "cell_type": "code",
   "execution_count": 58,
   "metadata": {},
   "outputs": [],
   "source": [
    "output_dir = '/Users/erikstorrs/Documents/ding/cell_segmentation/data/clustered_nuclei'"
   ]
  },
  {
   "cell_type": "code",
   "execution_count": 78,
   "metadata": {},
   "outputs": [],
   "source": [
    "m = None\n",
    "for image_metadata in COCO['images']:\n",
    "    file_name = image_metadata['file_name']\n",
    "    sample_id = file_name.split('.')[0]\n",
    "    \n",
    "    os.mkdir(os.path.join(output_dir, sample_id))\n",
    "    os.mkdir(os.path.join(output_dir, sample_id, 'masks'))\n",
    "    \n",
    "    masks = get_masks(image_metadata)\n",
    "    for i in range(masks.shape[2]):\n",
    "        mask = masks[:, :, i]\n",
    "        mask = np.asarray(mask, np.float)\n",
    "        m, M = mask.min(), mask.max()\n",
    "        mask = np.asarray((mask - m) / (M - m + 0.000001) * 255, np.uint8)\n",
    "        \n",
    "        cv2.imwrite(os.path.join(output_dir, sample_id, 'masks', f'{sample_id}_{i}.png'), mask)\n",
    "                    \n",
    "    \n",
    "    "
   ]
  },
  {
   "cell_type": "code",
   "execution_count": 79,
   "metadata": {},
   "outputs": [],
   "source": [
    "directory = '/Users/erikstorrs/Downloads/nuclei-segmentation-in-microscope-cell-images/Nuclei/cluster_nuclei'\n",
    "\n",
    "fps = [os.path.join(directory, fp) for fp in os.listdir(directory)]\n",
    "\n",
    "for fp in fps:\n",
    "    sample_id = fp.split('/')[-1].replace('.bmp.jpg', '')\n",
    "    \n",
    "    image = cv2.imread(fp, flags=cv2.IMREAD_COLOR)\n",
    "    os.mkdir(os.path.join(output_dir, sample_id, 'images'))\n",
    "    cv2.imwrite(os.path.join(output_dir, sample_id, 'images', f'{sample_id}.png'), image)"
   ]
  },
  {
   "cell_type": "code",
   "execution_count": null,
   "metadata": {},
   "outputs": [],
   "source": []
  },
  {
   "cell_type": "code",
   "execution_count": 67,
   "metadata": {},
   "outputs": [
    {
     "data": {
      "text/plain": [
       "<matplotlib.image.AxesImage at 0x12c52d128>"
      ]
     },
     "execution_count": 67,
     "metadata": {},
     "output_type": "execute_result"
    },
    {
     "data": {
      "image/png": "[encoded data removed]",
      "text/plain": [
       "<Figure size 432x288 with 1 Axes>"
      ]
     },
     "metadata": {
      "needs_background": "light"
     },
     "output_type": "display_data"
    }
   ],
   "source": [
    "plt.imshow(np.asarray([[1,1,1], [0,1,0], [0,0,0]]))"
   ]
  },
  {
   "cell_type": "code",
   "execution_count": 68,
   "metadata": {},
   "outputs": [
    {
     "data": {
      "text/plain": [
       "True"
      ]
     },
     "execution_count": 68,
     "metadata": {},
     "output_type": "execute_result"
    }
   ],
   "source": [
    "cv2.imwrite('test.png', np.asarray([[1,1,1], [0,1,0], [0,0,0]]))"
   ]
  },
  {
   "cell_type": "code",
   "execution_count": 24,
   "metadata": {},
   "outputs": [],
   "source": [
    "def show(i):\n",
    "    i = np.asarray(i, np.float)\n",
    "    m,M = i.min(), i.max()\n",
    "    I = np.asarray((i - m) / (M - m + 0.000001) * 255, np.uint8)\n",
    "    Image.fromarray(I).show()"
   ]
  },
  {
   "cell_type": "code",
   "execution_count": 25,
   "metadata": {},
   "outputs": [],
   "source": [
    "show(np.sum(masks, -1))"
   ]
  },
  {
   "cell_type": "code",
   "execution_count": 69,
   "metadata": {},
   "outputs": [
    {
     "ename": "AttributeError",
     "evalue": "'NoneType' object has no attribute 'shape'",
     "output_type": "error",
     "traceback": [
      "\u001b[0;31m---------------------------------------------------------------------------\u001b[0m",
      "\u001b[0;31mAttributeError\u001b[0m                            Traceback (most recent call last)",
      "\u001b[0;32m<ipython-input-69-1ab47862df37>\u001b[0m in \u001b[0;36m<module>\u001b[0;34m\u001b[0m\n\u001b[1;32m     10\u001b[0m \u001b[0mroot_path\u001b[0m \u001b[0;34m=\u001b[0m \u001b[0;34m'C:\\\\Users\\\\Link\\\\Desktop\\\\'\u001b[0m\u001b[0;34m\u001b[0m\u001b[0;34m\u001b[0m\u001b[0m\n\u001b[1;32m     11\u001b[0m \u001b[0;34m\u001b[0m\u001b[0m\n\u001b[0;32m---> 12\u001b[0;31m \u001b[0mh\u001b[0m \u001b[0;34m=\u001b[0m \u001b[0mimage\u001b[0m\u001b[0;34m.\u001b[0m\u001b[0mshape\u001b[0m\u001b[0;34m[\u001b[0m\u001b[0;36m0\u001b[0m\u001b[0;34m]\u001b[0m\u001b[0;34m\u001b[0m\u001b[0;34m\u001b[0m\u001b[0m\n\u001b[0m\u001b[1;32m     13\u001b[0m \u001b[0mw\u001b[0m \u001b[0;34m=\u001b[0m \u001b[0mimage\u001b[0m\u001b[0;34m.\u001b[0m\u001b[0mshape\u001b[0m\u001b[0;34m[\u001b[0m\u001b[0;36m1\u001b[0m\u001b[0;34m]\u001b[0m\u001b[0;34m\u001b[0m\u001b[0;34m\u001b[0m\u001b[0m\n\u001b[1;32m     14\u001b[0m \u001b[0;34m\u001b[0m\u001b[0m\n",
      "\u001b[0;31mAttributeError\u001b[0m: 'NoneType' object has no attribute 'shape'"
     ]
    }
   ],
   "source": [
    "import cv2\n",
    "import numpy as np\n",
    "import os\n",
    "\n",
    "image = cv2.imread('box.png')\n",
    "\n",
    "path, filename = os.path.split('box.png')\n",
    "filename = (filename[:-4])\n",
    "\n",
    "root_path = 'C:\\\\Users\\\\Link\\\\Desktop\\\\'\n",
    "\n",
    "h = image.shape[0]\n",
    "w = image.shape[1]\n",
    "\n",
    "mask_l = np.zeros(image.shape[:2], dtype=\"uint8\")\n",
    "\n",
    "roi = cv2.rectangle(mask_l, (w//2, 0), (0, h), 255, -1)  # LEFT MASK\n",
    "\n",
    "masked_l = cv2.bitwise_and(image, image, mask=mask_l)\n",
    "\n",
    "list = ['a', 'b']\n",
    "\n",
    "for i in enumerate(masked_l):\n",
    "    x, y, w, h = cv2.boundingRect(mask_l)\n",
    "    roi_l = image[y:y + h, x:x + w]\n",
    "    cv2.imwrite(root_path + str(filename) + '{}.png'.format(lista[0]), roi_l)\n",
    "\n",
    "cv2.imshow(\"Left\", roi_l)\n",
    "cv2.waitKey(0)\n",
    "\n",
    "\n",
    "h2 = image.shape[0]\n",
    "w2 = image.shape[1]\n",
    "\n",
    "mask_r = np.zeros(image.shape[:2], dtype=\"uint8\")\n",
    "\n",
    "cv2.rectangle(mask_r, (w2//2, 0), (w2, h2), 255, -1)  # RIGHT MASK\n",
    "\n",
    "masked_r = cv2.bitwise_and(image, image, mask=mask_r)\n",
    "\n",
    "for i_i in enumerate(masked_r):\n",
    "    x2, y2, w2, h2 = cv2.boundingRect(mask_r)\n",
    "    roi_r = image[y2:y2 + h2, x2:x2 + w2]\n",
    "\n",
    "    cv2.imwrite(root_path + str(filename) + '{}.png'.format(lista[1]), roi_r)\n",
    "\n",
    "cv2.imshow(\"Right\", roi_r)\n",
    "cv2.waitKey(0)"
   ]
  },
  {
   "cell_type": "code",
   "execution_count": null,
   "metadata": {},
   "outputs": [],
   "source": []
  }
 ],
 "metadata": {
  "kernelspec": {
   "display_name": "Python 3",
   "language": "python",
   "name": "python3"
  },
  "language_info": {
   "codemirror_mode": {
    "name": "ipython",
    "version": 3
   },
   "file_extension": ".py",
   "mimetype": "text/x-python",
   "name": "python",
   "nbconvert_exporter": "python",
   "pygments_lexer": "ipython3",
   "version": "3.7.1"
  }
 },
 "nbformat": 4,
 "nbformat_minor": 2
}
